{
 "cells": [
  {
   "cell_type": "markdown",
   "metadata": {},
   "source": [
    "# Trabalho final de ciência de dados\n",
    "### Caio Dutra, Joao Márcio e Natan Fernandes\n",
    "\n",
    "O conjunto de dados `Fifa.zip` contém todas as partidas da Copa do Mundo FIFA 2022 do Catar.\n",
    "\n",
    "Junto com os placares e as seleções, foram relatadas diversas estatísticas para cada partida; por exemplo, assistências, posse de bola, cruzamentos, número de cartões vermelhos e amarelos, passes, faltas, tentativas, mudanças de jogo, impedimentos e o número de vezes que uma determinada área do campo foi cruzada.\n",
    "\n",
    "Sabendo desses dados, faça as seguintes análises:\n",
    "1) Análise descritiva das colunas.\n",
    "2) Os tipos de dados de cada coluna.\n",
    "3) Verificar se há valores vazios, caso exista preencher com a média.\n",
    "4) Quais times marcaram mais gols?\n",
    "5) Quais times tiveram mais assistências?\n",
    "6) Quais equipes tiveram o maior número total de tentativas de gol?\n",
    "7) Apresente gráficos para as questões 4, 5 e 6."
   ]
  },
  {
   "cell_type": "markdown",
   "metadata": {},
   "source": [
    "## Lendo a base de dados"
   ]
  },
  {
   "cell_type": "code",
   "execution_count": 21,
   "metadata": {},
   "outputs": [],
   "source": [
    "import pandas as pd\n",
    "import matplotlib.pyplot as plt\n",
    "\n",
    "fifa_data = pd.read_csv('fifa_matches.csv')"
   ]
  },
  {
   "cell_type": "code",
   "execution_count": 22,
   "metadata": {},
   "outputs": [],
   "source": [
    "def update_data(key, value, dictionary):\n",
    "    \"\"\"\n",
    "        Incrementa valores no dicionario\n",
    "    \"\"\"\n",
    "    if key in dictionary:\n",
    "        value += dictionary[key]\n",
    "    dictionary[key] = value"
   ]
  },
  {
   "cell_type": "code",
   "execution_count": 23,
   "metadata": {},
   "outputs": [],
   "source": [
    "def add_data_to_dict(data, column, dictionary):\n",
    "    \"\"\"\n",
    "        Obtém dados de cada time e adicionar no dicionario\n",
    "    \"\"\"\n",
    "    data = data.reset_index()\n",
    "    for _, row in data.iterrows():\n",
    "        team_columns = ['team1', 'team2']\n",
    "        for team_column in team_columns:\n",
    "            value = int(row[f'{column} {team_column}'])\n",
    "            team_name = str(row['team1'])\n",
    "            update_data(team_name, value, dictionary)"
   ]
  },
  {
   "cell_type": "code",
   "execution_count": 24,
   "metadata": {},
   "outputs": [],
   "source": [
    "def get_and_print_ranking(dictionary, data_name):\n",
    "    \"\"\"\n",
    "        Printa o ranking\n",
    "    \"\"\"\n",
    "    ranking = dict(reversed(sorted(dictionary.items(), key=lambda x: x[1])))\n",
    "    for i, key in enumerate(ranking):\n",
    "        print(f'#{i+1} {key} ({ranking[key]} {data_name})')\n",
    "    return ranking"
   ]
  },
  {
   "cell_type": "code",
   "execution_count": 25,
   "metadata": {},
   "outputs": [],
   "source": [
    "def print_chart(dictionary, title):\n",
    "    top_5 = {}\n",
    "    count = 0\n",
    "    for key in dictionary:\n",
    "        if count == 5:\n",
    "            break\n",
    "\n",
    "        top_5[key] = dictionary[key]\n",
    "        count += 1\n",
    "    \n",
    "    names = list(top_5.keys())\n",
    "    values = list(top_5.values())\n",
    "    \n",
    "    plt.title(title)\n",
    "    plt.bar(range(len(top_5)), values, tick_label=names)\n",
    "    plt.show()"
   ]
  },
  {
   "cell_type": "markdown",
   "metadata": {},
   "source": [
    "<center>\n",
    "    <h1>Respostas</h1>\n",
    "</center>"
   ]
  },
  {
   "cell_type": "markdown",
   "metadata": {},
   "source": [
    "# 1) Análise descritiva das colunas\n",
    "\n",
    "| Coluna | Descrição |\n",
    "|---|---|\n",
    "| team1 | Nome da equipe 1 |\n",
    "| team2 | Nome da equipe 2 |\n",
    "| possession team1 | Posse de bola da equipe 1 (em %) |\n",
    "| possession team2 | Posse de bola da equipe 2 (em %) |\n",
    "| possession in contest | Posse de bola disputada (em %) |\n",
    "| number of goals team1 | Número de gols marcados pela equipe 1 |\n",
    "| number of goals team2 | Número de gols marcados pela equipe 2 |\n",
    "| date | Data da partida |\n",
    "| hour | Hora da partida |\n",
    "| category | Categoria da partida |\n",
    "| total attempts team1 | Número total de finalizações da equipe 1 |\n",
    "| total attempts team2 | Número total de finalizações da equipe 2 |\n",
    "| conceded team1 | Número de gols sofridos pela equipe 1 |\n",
    "| conceded team2 | Número de gols sofridos pela equipe 2 |\n",
    "| goal inside the penalty area team1 | Número de gols marcados pela equipe 1 dentro da área penal |\n",
    "| goal inside the penalty area team2 | Número de gols marcados pela equipe 2 dentro da área penal |\n",
    "| goal outside the penalty area team1 | Número de gols marcados pela equipe 1 fora da área penal |\n",
    "| goal outside the penalty area team2 | Número de gols marcados pela equipe 2 fora da área penal |\n",
    "| assists team1 | Número de assistências da equipe 1 |\n",
    "| assists team2 | Número de assistências da equipe 2 |\n",
    "| on target attempts team1 | Número de finalizações em direção ao gol da equipe 1 |\n",
    "| on target attempts team2 | Número de finalizações em direção ao gol da equipe 2 |\n",
    "| off target attempts team1 | Número de finalizações fora do gol da equipe 1 |\n",
    "| off target attempts team2 | Número de finalizações fora do gol da equipe 2 |\n",
    "| attempts inside the penalty area team1 | Número de finalizações dentro da área penal da equipe 1 |\n",
    "| attempts inside the penalty area team2 | Número de finalizações dentro da área penal da equipe 2 |\n",
    "| attempts outside the penalty area team1 | Número de finalizações fora da área penal da equipe 1 |\n",
    "| attempts outside the penalty area team2 | Número de finalizações fora da área penal da equipe 2 |\n",
    "| left channel team1 | Número de finalizações do canal esquerdo da equipe 1 |\n",
    "| left channel team2 | Número de finalizações do canal esquerdo da equipe 2 |\n",
    "| left inside channel team1 | Número de finalizações do canal interior esquerdo da equipe 1 |\n",
    "| left inside channel team2 | Número de finalizações do canal interior esquerdo da equipe 2 |\n",
    "| central channel team1 | Número de finalizações do canal central da equipe 1 |\n",
    "| central channel team2 | Número de finalizações do canal central da equipe 2 |\n",
    "| right inside channel team1 | Número de finalizações do canal interior direito da equipe 1 |\n",
    "| right inside channel team2 | Número de finalizações do canal interior direito da equipe 2 |\n",
    "| right channel team1 | Número de finalizações do canal direito da equipe 1 |\n",
    "| right channel team2 | Número de finalizações do canal direito da equipe 2 |\n",
    "| total offers to receive team1 | Número total de oportunidades para receber a bola da equipe 1 |\n",
    "| total offers to receive team2 | Número total de oportunidades para receber a bola da equipe 2 |\n",
    "| inbehind offers to receive team1 | Número de oportunidades para receber a bola atrás da defesa da equipe 1 |\n",
    "| inbehind offers to receive team2 | Número de oportunidades para receber a bola atrás da defesa da equipe 2 |\n",
    "| inbetween offers to receive team1 | Número de oportunidades para receber a bola entre a defesa e o meio-campo da equipe 1 |\n",
    "| inbetween offers to receive team2 | Número de oportunidades para receber a bola entre a defesa e o meio-campo da equipe 2 |\n"
   ]
  },
  {
   "cell_type": "markdown",
   "metadata": {},
   "source": [
    "# 2) Os tipos de dados de cada coluna\n",
    "| Coluna | Tipo de dado |\n",
    "|---|---|\n",
    "| team1 | texto |\n",
    "| team2 | texto |\n",
    "| possession team1 | numérico |\n",
    "| possession team2 | numérico |\n",
    "| possession in contest | numérico |\n",
    "| number of goals team1 | numérico |\n",
    "| number of goals team2 | numérico |\n",
    "| date | data |\n",
    "| hour | hora |\n",
    "| category | texto |\n",
    "| total attempts team1 | numérico |\n",
    "| total attempts team2 | numérico |\n",
    "| conceded team1 | numérico |\n",
    "| conceded team2 | numérico |\n",
    "| goal inside the penalty area team1 | numérico |\n",
    "| goal inside the penalty area team2 | numérico |\n",
    "| goal outside the penalty area team1 | numérico |\n",
    "| goal outside the penalty area team2 | numérico |\n",
    "| assists team1 | numérico |\n",
    "| assists team2 | numérico |\n",
    "| on target attempts team1 | numérico |\n",
    "| on target attempts team2 | numérico |\n",
    "| off target attempts team1 | numérico |\n",
    "| off target attempts team2 | numérico |\n",
    "| attempts inside the penalty area team1 | numérico |\n",
    "| attempts inside the penalty area team2 | numérico |\n",
    "| attempts outside the penalty area team1 | numérico |\n",
    "| attempts outside the penalty area team2 | numérico |\n",
    "| left channel team1 | numérico |\n",
    "| left channel team2 | numérico |\n",
    "| left inside channel team1 | numérico |\n",
    "| left inside channel team2 | numérico |\n",
    "| central channel team1 | numérico |\n",
    "| central channel team2 | numérico |\n",
    "| right inside channel team1 | numérico |\n",
    "| right inside channel team2 | numérico |\n",
    "| right channel team1 | numérico |\n",
    "| right channel team2 | numérico |\n",
    "| total offers to receive team1 | numérico |\n",
    "| total offers to receive team2 | numérico |\n",
    "| inbehind offers to receive team1 | numérico |\n",
    "| inbehind offers to receive team2 | numérico |\n",
    "| inbetween offers to receive team1 | numérico |\n",
    "| inbetween offers to receive team2 | numérico |\n",
    "| infront offers to receive team1 | numérico |\n",
    "| infront offers to receive team2 | numérico |\n",
    "| receptions between midfield and defensive lines team1 | numérico |\n",
    "| receptions between midfield and defensive lines team2 | numérico |\n",
    "| attempted line breaks team1 | numérico |\n",
    "| attempted line breaks team2 | numérico |\n",
    "| completed line breaks team1 | numérico |\n",
    "| completed line breaks team2 | numérico |\n",
    "| attempted defensive line breaks team1 | numérico |\n",
    "| attempted defensive line breaks team2 | numérico |\n",
    "| completed defensive line breaks team1 | numérico |\n",
    "| completed defensive line breaks team2 | numérico |\n",
    "| yellow cards team1 | numérico |\n",
    "| yellow cards team2 | numérico |\n",
    "| red cards team1 | numérico |\n",
    "| red cards team2 | numérico |\n",
    "| fouls against team1 | numérico |\n",
    "| fouls against team2 | numérico |\n",
    "| offsides team1 | numérico |\n",
    "| offsides team2 | numérico |\n",
    "| passes team1 | numérico |\n",
    "| passes team2 | numérico |\n",
    "| passes completed team1 | numérico |\n",
    "| passes completed team2 | numérico |\n",
    "| crosses team1 | numérico |\n",
    "| crosses team2 | numérico |\n",
    "| crosses completed team1 | numérico |\n",
    "| crosses completed team2 | numérico |\n",
    "| switches of play completed team1 | numérico |\n",
    "| switches of play completed team2 | numérico |\n",
    "| corners team1 | numérico |\n",
    "| corners team2 | numérico |\n",
    "| free kicks team1 | numérico |\n",
    "| free kicks team2 | numérico |\n",
    "| penalties scored team1 | numérico |\n",
    "| penalties scored team2 | numérico |\n",
    "| goal preventions team1 | numérico |\n",
    "| goal preventions team2 | numérico |\n",
    "| own goals team1 | numérico |\n",
    "| own goals team2 | numérico |\n",
    "| forced turnovers team1 | numérico |\n",
    "| forced turnovers team2 | numérico |\n",
    "| defensive pressures applied team1 | numérico |\n",
    "| defensive pressures applied team2 | numérico |"
   ]
  },
  {
   "cell_type": "markdown",
   "metadata": {},
   "source": [
    "## 3) Verificar se há valores vazios, caso exista preencher com a média"
   ]
  },
  {
   "cell_type": "code",
   "execution_count": 26,
   "metadata": {},
   "outputs": [],
   "source": [
    "if fifa_data.isna().any().any():\n",
    "    fifa_data.fillna(fifa_data.mean(), errors='coerce', inplace=True)"
   ]
  },
  {
   "cell_type": "markdown",
   "metadata": {},
   "source": [
    "## 4) Quais times marcaram mais gols?"
   ]
  },
  {
   "cell_type": "code",
   "execution_count": 27,
   "metadata": {},
   "outputs": [
    {
     "name": "stdout",
     "output_type": "stream",
     "text": [
      "#1 ARGENTINA (17 gols)\n",
      "#2 PORTUGAL (14 gols)\n",
      "#3 FRANCE (14 gols)\n",
      "#4 ENGLAND (14 gols)\n",
      "#5 NETHERLANDS (12 gols)\n",
      "#6 CROATIA (10 gols)\n",
      "#7 SPAIN (9 gols)\n",
      "#8 KOREA REPUBLIC (8 gols)\n",
      "#9 BRAZIL (8 gols)\n",
      "#10 CAMEROON (7 gols)\n",
      "#11 COSTA RICA (6 gols)\n",
      "#12 JAPAN (6 gols)\n",
      "#13 QATAR (6 gols)\n",
      "#14 SERBIA (5 gols)\n",
      "#15 WALES (5 gols)\n",
      "#16 POLAND (4 gols)\n",
      "#17 CANADA (3 gols)\n",
      "#18 SAUDI ARABIA (3 gols)\n",
      "#19 ECUADOR (3 gols)\n",
      "#20 BELGIUM (3 gols)\n",
      "#21 GERMANY (3 gols)\n",
      "#22 GHANA (2 gols)\n",
      "#23 TUNISIA (2 gols)\n",
      "#24 UNITED STATES (2 gols)\n",
      "#25 SENEGAL (2 gols)\n",
      "#26 AUSTRALIA (1 gols)\n",
      "#27 IRAN (1 gols)\n",
      "#28 SWITZERLAND (1 gols)\n",
      "#29 MOROCCO (1 gols)\n",
      "#30 URUGUAY (0 gols)\n",
      "#31 MEXICO (0 gols)\n",
      "#32 DENMARK (0 gols)\n"
     ]
    }
   ],
   "source": [
    "team_goals = {}\n",
    "add_data_to_dict(fifa_data, 'number of goals', team_goals)\n",
    "goals_ranking = get_and_print_ranking(team_goals, 'gols')"
   ]
  },
  {
   "cell_type": "markdown",
   "metadata": {},
   "source": [
    "## 5) Quais times tiveram mais assistências?"
   ]
  },
  {
   "cell_type": "code",
   "execution_count": 28,
   "metadata": {},
   "outputs": [
    {
     "name": "stdout",
     "output_type": "stream",
     "text": [
      "#1 ENGLAND (12 assistências)\n",
      "#2 FRANCE (11 assistências)\n",
      "#3 CROATIA (9 assistências)\n",
      "#4 NETHERLANDS (9 assistências)\n",
      "#5 PORTUGAL (9 assistências)\n",
      "#6 CAMEROON (7 assistências)\n",
      "#7 ARGENTINA (7 assistências)\n",
      "#8 KOREA REPUBLIC (6 assistências)\n",
      "#9 JAPAN (6 assistências)\n",
      "#10 SPAIN (6 assistências)\n",
      "#11 BRAZIL (5 assistências)\n",
      "#12 SERBIA (4 assistências)\n",
      "#13 COSTA RICA (4 assistências)\n",
      "#14 QATAR (4 assistências)\n",
      "#15 POLAND (3 assistências)\n",
      "#16 WALES (3 assistências)\n",
      "#17 BELGIUM (3 assistências)\n",
      "#18 SAUDI ARABIA (2 assistências)\n",
      "#19 TUNISIA (2 assistências)\n",
      "#20 GHANA (1 assistências)\n",
      "#21 CANADA (1 assistências)\n",
      "#22 AUSTRALIA (1 assistências)\n",
      "#23 IRAN (1 assistências)\n",
      "#24 ECUADOR (1 assistências)\n",
      "#25 SWITZERLAND (1 assistências)\n",
      "#26 GERMANY (1 assistências)\n",
      "#27 MOROCCO (1 assistências)\n",
      "#28 UNITED STATES (1 assistências)\n",
      "#29 SENEGAL (1 assistências)\n",
      "#30 URUGUAY (0 assistências)\n",
      "#31 MEXICO (0 assistências)\n",
      "#32 DENMARK (0 assistências)\n"
     ]
    }
   ],
   "source": [
    "team_assists = {}\n",
    "add_data_to_dict(fifa_data, 'assists', team_assists)\n",
    "assists_ranking = get_and_print_ranking(team_assists, 'assistências')"
   ]
  },
  {
   "cell_type": "markdown",
   "metadata": {},
   "source": [
    "## 6) Quais equipes tiveram o maior número total de tentativas de gol?"
   ]
  },
  {
   "cell_type": "code",
   "execution_count": 29,
   "metadata": {},
   "outputs": [
    {
     "name": "stdout",
     "output_type": "stream",
     "text": [
      "#1 ENGLAND (12 tentativas)\n",
      "#2 FRANCE (11 tentativas)\n",
      "#3 CROATIA (9 tentativas)\n",
      "#4 NETHERLANDS (9 tentativas)\n",
      "#5 PORTUGAL (9 tentativas)\n",
      "#6 CAMEROON (7 tentativas)\n",
      "#7 ARGENTINA (7 tentativas)\n",
      "#8 KOREA REPUBLIC (6 tentativas)\n",
      "#9 JAPAN (6 tentativas)\n",
      "#10 SPAIN (6 tentativas)\n",
      "#11 BRAZIL (5 tentativas)\n",
      "#12 SERBIA (4 tentativas)\n",
      "#13 COSTA RICA (4 tentativas)\n",
      "#14 QATAR (4 tentativas)\n",
      "#15 POLAND (3 tentativas)\n",
      "#16 WALES (3 tentativas)\n",
      "#17 BELGIUM (3 tentativas)\n",
      "#18 SAUDI ARABIA (2 tentativas)\n",
      "#19 TUNISIA (2 tentativas)\n",
      "#20 GHANA (1 tentativas)\n",
      "#21 CANADA (1 tentativas)\n",
      "#22 AUSTRALIA (1 tentativas)\n",
      "#23 IRAN (1 tentativas)\n",
      "#24 ECUADOR (1 tentativas)\n",
      "#25 SWITZERLAND (1 tentativas)\n",
      "#26 GERMANY (1 tentativas)\n",
      "#27 MOROCCO (1 tentativas)\n",
      "#28 UNITED STATES (1 tentativas)\n",
      "#29 SENEGAL (1 tentativas)\n",
      "#30 URUGUAY (0 tentativas)\n",
      "#31 MEXICO (0 tentativas)\n",
      "#32 DENMARK (0 tentativas)\n"
     ]
    }
   ],
   "source": [
    "goal_attempts = {}\n",
    "add_data_to_dict(fifa_data, 'total attempts', goal_attempts)\n",
    "goal_attempts_ranking = get_and_print_ranking(team_assists, 'tentativas')"
   ]
  },
  {
   "cell_type": "markdown",
   "metadata": {},
   "source": [
    "# 7) Apresente gráficos para as questões 4, 5 e 6 com limite de 5 seleções.."
   ]
  },
  {
   "cell_type": "code",
   "execution_count": 30,
   "metadata": {},
   "outputs": [
    {
     "data": {
      "image/png": "[encoded data removed]",
      "text/plain": [
       "<Figure size 640x480 with 1 Axes>"
      ]
     },
     "metadata": {},
     "output_type": "display_data"
    },
    {
     "data": {
      "image/png": "[encoded data removed]",
      "text/plain": [
       "<Figure size 640x480 with 1 Axes>"
      ]
     },
     "metadata": {},
     "output_type": "display_data"
    },
    {
     "data": {
      "image/png": "[encoded data removed]",
      "text/plain": [
       "<Figure size 640x480 with 1 Axes>"
      ]
     },
     "metadata": {},
     "output_type": "display_data"
    }
   ],
   "source": [
    "print_chart(goals_ranking, 'Quantidade de gols')\n",
    "print_chart(assists_ranking, 'Quantidade de assistencias')\n",
    "print_chart(goal_attempts_ranking, 'Quantidade de tentativas ao gol')"
   ]
  }
 ],
 "metadata": {
  "kernelspec": {
   "display_name": "Python 3",
   "language": "python",
   "name": "python3"
  },
  "language_info": {
   "codemirror_mode": {
    "name": "ipython",
    "version": 3
   },
   "file_extension": ".py",
   "mimetype": "text/x-python",
   "name": "python",
   "nbconvert_exporter": "python",
   "pygments_lexer": "ipython3",
   "version": "3.11.5"
  }
 },
 "nbformat": 4,
 "nbformat_minor": 2
}
